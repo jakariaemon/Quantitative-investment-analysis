{
 "cells": [
  {
   "cell_type": "code",
   "execution_count": 1,
   "metadata": {
    "id": "uG8UAZXjeUhf",
    "jupyter": {
     "outputs_hidden": true
    }
   },
   "outputs": [
    {
     "name": "stdout",
     "output_type": "stream",
     "text": [
      "Looking in indexes: https://pypi.org/simple, https://pypi.ngc.nvidia.com\n",
      "Requirement already satisfied: tensorflow in ./anaconda3/lib/python3.7/site-packages (1.15.0)\n",
      "Collecting tensorflow\n",
      "  Downloading tensorflow-2.10.0-cp37-cp37m-manylinux_2_17_x86_64.manylinux2014_x86_64.whl (578.0 MB)\n",
      "\u001b[2K     \u001b[90m━━━━━━━━━━━━━━━━━━━━━━━━━━━━━━━━━━━━━━━\u001b[0m \u001b[32m578.0/578.0 MB\u001b[0m \u001b[31m2.4 MB/s\u001b[0m eta \u001b[36m0:00:00\u001b[0m00:01\u001b[0m00:07\u001b[0m\n",
      "\u001b[?25hCollecting flatbuffers>=2.0\n",
      "  Downloading flatbuffers-2.0.7-py2.py3-none-any.whl (26 kB)\n",
      "Requirement already satisfied: tensorflow-io-gcs-filesystem>=0.23.1 in ./anaconda3/lib/python3.7/site-packages (from tensorflow) (0.26.0)\n",
      "Collecting tensorflow-estimator<2.11,>=2.10.0\n",
      "  Downloading tensorflow_estimator-2.10.0-py2.py3-none-any.whl (438 kB)\n",
      "\u001b[2K     \u001b[90m━━━━━━━━━━━━━━━━━━━━━━━━━━━━━━━━━━━━━━━\u001b[0m \u001b[32m438.7/438.7 kB\u001b[0m \u001b[31m2.9 MB/s\u001b[0m eta \u001b[36m0:00:00\u001b[0ma \u001b[36m0:00:01\u001b[0m\n",
      "\u001b[?25hRequirement already satisfied: numpy>=1.20 in ./anaconda3/lib/python3.7/site-packages (from tensorflow) (1.21.3)\n",
      "Requirement already satisfied: wrapt>=1.11.0 in ./anaconda3/lib/python3.7/site-packages (from tensorflow) (1.14.1)\n",
      "Requirement already satisfied: keras-preprocessing>=1.1.1 in ./anaconda3/lib/python3.7/site-packages (from tensorflow) (1.1.2)\n",
      "Requirement already satisfied: libclang>=13.0.0 in ./anaconda3/lib/python3.7/site-packages (from tensorflow) (14.0.6)\n",
      "Requirement already satisfied: h5py>=2.9.0 in ./anaconda3/lib/python3.7/site-packages (from tensorflow) (2.10.0)\n",
      "Requirement already satisfied: six>=1.12.0 in ./anaconda3/lib/python3.7/site-packages (from tensorflow) (1.16.0)\n",
      "Requirement already satisfied: opt-einsum>=2.3.2 in ./anaconda3/lib/python3.7/site-packages (from tensorflow) (3.3.0)\n",
      "Requirement already satisfied: grpcio<2.0,>=1.24.3 in ./anaconda3/lib/python3.7/site-packages (from tensorflow) (1.48.1)\n",
      "Requirement already satisfied: protobuf<3.20,>=3.9.2 in ./anaconda3/lib/python3.7/site-packages (from tensorflow) (3.19.4)\n",
      "Requirement already satisfied: typing-extensions>=3.6.6 in ./anaconda3/lib/python3.7/site-packages (from tensorflow) (4.3.0)\n",
      "Requirement already satisfied: astunparse>=1.6.0 in ./anaconda3/lib/python3.7/site-packages (from tensorflow) (1.6.3)\n",
      "Collecting keras<2.11,>=2.10.0\n",
      "  Downloading keras-2.10.0-py2.py3-none-any.whl (1.7 MB)\n",
      "\u001b[2K     \u001b[90m━━━━━━━━━━━━━━━━━━━━━━━━━━━━━━━━━━━━━━━━\u001b[0m \u001b[32m1.7/1.7 MB\u001b[0m \u001b[31m1.3 MB/s\u001b[0m eta \u001b[36m0:00:00\u001b[0ma \u001b[36m0:00:01\u001b[0m\n",
      "\u001b[?25hRequirement already satisfied: gast<=0.4.0,>=0.2.1 in ./anaconda3/lib/python3.7/site-packages (from tensorflow) (0.2.2)\n",
      "Requirement already satisfied: setuptools in ./anaconda3/lib/python3.7/site-packages (from tensorflow) (59.8.0)\n",
      "Requirement already satisfied: packaging in ./anaconda3/lib/python3.7/site-packages (from tensorflow) (21.3)\n",
      "Requirement already satisfied: termcolor>=1.1.0 in ./anaconda3/lib/python3.7/site-packages (from tensorflow) (1.1.0)\n",
      "Requirement already satisfied: absl-py>=1.0.0 in ./anaconda3/lib/python3.7/site-packages (from tensorflow) (1.2.0)\n",
      "Requirement already satisfied: google-pasta>=0.1.1 in ./anaconda3/lib/python3.7/site-packages (from tensorflow) (0.2.0)\n",
      "Collecting tensorboard<2.11,>=2.10\n",
      "  Downloading tensorboard-2.10.0-py3-none-any.whl (5.9 MB)\n",
      "\u001b[2K     \u001b[90m━━━━━━━━━━━━━━━━━━━━━━━━━━━━━━━━━━━━━━━━\u001b[0m \u001b[32m5.9/5.9 MB\u001b[0m \u001b[31m785.1 kB/s\u001b[0m eta \u001b[36m0:00:00\u001b[0m00:01\u001b[0m00:01\u001b[0m\n",
      "\u001b[?25hRequirement already satisfied: wheel<1.0,>=0.23.0 in ./anaconda3/lib/python3.7/site-packages (from astunparse>=1.6.0->tensorflow) (0.37.1)\n",
      "Requirement already satisfied: tensorboard-data-server<0.7.0,>=0.6.0 in ./anaconda3/lib/python3.7/site-packages (from tensorboard<2.11,>=2.10->tensorflow) (0.6.1)\n",
      "Requirement already satisfied: tensorboard-plugin-wit>=1.6.0 in ./anaconda3/lib/python3.7/site-packages (from tensorboard<2.11,>=2.10->tensorflow) (1.8.1)\n",
      "Requirement already satisfied: requests<3,>=2.21.0 in ./anaconda3/lib/python3.7/site-packages (from tensorboard<2.11,>=2.10->tensorflow) (2.28.1)\n",
      "Requirement already satisfied: google-auth<3,>=1.6.3 in ./anaconda3/lib/python3.7/site-packages (from tensorboard<2.11,>=2.10->tensorflow) (2.11.0)\n",
      "Requirement already satisfied: markdown>=2.6.8 in ./anaconda3/lib/python3.7/site-packages (from tensorboard<2.11,>=2.10->tensorflow) (3.4.1)\n",
      "Requirement already satisfied: werkzeug>=1.0.1 in ./anaconda3/lib/python3.7/site-packages (from tensorboard<2.11,>=2.10->tensorflow) (2.2.2)\n",
      "Requirement already satisfied: google-auth-oauthlib<0.5,>=0.4.1 in ./anaconda3/lib/python3.7/site-packages (from tensorboard<2.11,>=2.10->tensorflow) (0.4.6)\n",
      "Requirement already satisfied: pyparsing!=3.0.5,>=2.0.2 in ./anaconda3/lib/python3.7/site-packages (from packaging->tensorflow) (3.0.9)\n",
      "Requirement already satisfied: pyasn1-modules>=0.2.1 in ./anaconda3/lib/python3.7/site-packages (from google-auth<3,>=1.6.3->tensorboard<2.11,>=2.10->tensorflow) (0.2.8)\n",
      "Requirement already satisfied: cachetools<6.0,>=2.0.0 in ./anaconda3/lib/python3.7/site-packages (from google-auth<3,>=1.6.3->tensorboard<2.11,>=2.10->tensorflow) (5.2.0)\n",
      "Requirement already satisfied: rsa<5,>=3.1.4 in ./anaconda3/lib/python3.7/site-packages (from google-auth<3,>=1.6.3->tensorboard<2.11,>=2.10->tensorflow) (4.9)\n",
      "Requirement already satisfied: requests-oauthlib>=0.7.0 in ./anaconda3/lib/python3.7/site-packages (from google-auth-oauthlib<0.5,>=0.4.1->tensorboard<2.11,>=2.10->tensorflow) (1.3.1)\n",
      "Requirement already satisfied: importlib-metadata>=4.4 in ./anaconda3/lib/python3.7/site-packages (from markdown>=2.6.8->tensorboard<2.11,>=2.10->tensorflow) (4.12.0)\n",
      "Requirement already satisfied: urllib3<1.27,>=1.21.1 in ./anaconda3/lib/python3.7/site-packages (from requests<3,>=2.21.0->tensorboard<2.11,>=2.10->tensorflow) (1.26.12)\n",
      "Requirement already satisfied: certifi>=2017.4.17 in ./anaconda3/lib/python3.7/site-packages (from requests<3,>=2.21.0->tensorboard<2.11,>=2.10->tensorflow) (2022.6.15)\n",
      "Requirement already satisfied: idna<4,>=2.5 in ./anaconda3/lib/python3.7/site-packages (from requests<3,>=2.21.0->tensorboard<2.11,>=2.10->tensorflow) (3.3)\n",
      "Requirement already satisfied: charset-normalizer<3,>=2 in ./anaconda3/lib/python3.7/site-packages (from requests<3,>=2.21.0->tensorboard<2.11,>=2.10->tensorflow) (2.1.1)\n",
      "Requirement already satisfied: MarkupSafe>=2.1.1 in ./anaconda3/lib/python3.7/site-packages (from werkzeug>=1.0.1->tensorboard<2.11,>=2.10->tensorflow) (2.1.1)\n",
      "Requirement already satisfied: zipp>=0.5 in ./anaconda3/lib/python3.7/site-packages (from importlib-metadata>=4.4->markdown>=2.6.8->tensorboard<2.11,>=2.10->tensorflow) (3.8.1)\n",
      "Requirement already satisfied: pyasn1<0.5.0,>=0.4.6 in ./anaconda3/lib/python3.7/site-packages (from pyasn1-modules>=0.2.1->google-auth<3,>=1.6.3->tensorboard<2.11,>=2.10->tensorflow) (0.4.8)\n",
      "Requirement already satisfied: oauthlib>=3.0.0 in ./anaconda3/lib/python3.7/site-packages (from requests-oauthlib>=0.7.0->google-auth-oauthlib<0.5,>=0.4.1->tensorboard<2.11,>=2.10->tensorflow) (3.2.0)\n",
      "Installing collected packages: keras, flatbuffers, tensorflow-estimator, tensorboard, tensorflow\n",
      "  Attempting uninstall: keras\n",
      "    Found existing installation: keras 2.9.0\n",
      "    Uninstalling keras-2.9.0:\n",
      "      Successfully uninstalled keras-2.9.0\n",
      "  Attempting uninstall: flatbuffers\n",
      "    Found existing installation: flatbuffers 1.12\n",
      "    Uninstalling flatbuffers-1.12:\n",
      "      Successfully uninstalled flatbuffers-1.12\n",
      "  Attempting uninstall: tensorflow-estimator\n",
      "    Found existing installation: tensorflow-estimator 1.15.1\n",
      "    Uninstalling tensorflow-estimator-1.15.1:\n",
      "      Successfully uninstalled tensorflow-estimator-1.15.1\n",
      "  Attempting uninstall: tensorboard\n",
      "    Found existing installation: tensorboard 1.15.0\n",
      "    Uninstalling tensorboard-1.15.0:\n",
      "      Successfully uninstalled tensorboard-1.15.0\n",
      "  Attempting uninstall: tensorflow\n",
      "    Found existing installation: tensorflow 1.15.0\n",
      "    Uninstalling tensorflow-1.15.0:\n",
      "      Successfully uninstalled tensorflow-1.15.0\n",
      "\u001b[31mERROR: pip's dependency resolver does not currently take into account all the packages that are installed. This behaviour is the source of the following dependency conflicts.\n",
      "tensorflow-gpu 2.9.2 requires flatbuffers<2,>=1.12, but you have flatbuffers 2.0.7 which is incompatible.\n",
      "tensorflow-gpu 2.9.2 requires keras<2.10.0,>=2.9.0rc0, but you have keras 2.10.0 which is incompatible.\n",
      "tensorflow-gpu 2.9.2 requires tensorboard<2.10,>=2.9, but you have tensorboard 2.10.0 which is incompatible.\n",
      "tensorflow-gpu 2.9.2 requires tensorflow-estimator<2.10.0,>=2.9.0rc0, but you have tensorflow-estimator 2.10.0 which is incompatible.\u001b[0m\u001b[31m\n",
      "\u001b[0mSuccessfully installed flatbuffers-2.0.7 keras-2.10.0 tensorboard-2.10.0 tensorflow-2.10.0 tensorflow-estimator-2.10.0\n"
     ]
    }
   ],
   "source": [
    "!pip install --upgrade tensorflow"
   ]
  },
  {
   "cell_type": "code",
   "execution_count": 2,
   "metadata": {
    "id": "QxMuce0vVKaL",
    "jupyter": {
     "outputs_hidden": true
    }
   },
   "outputs": [
    {
     "name": "stdout",
     "output_type": "stream",
     "text": [
      "Looking in indexes: https://pypi.org/simple, https://pypi.ngc.nvidia.com\n",
      "Collecting tf-quant-finance\n",
      "  Downloading tf_quant_finance-0.0.1.dev34-py2.py3-none-any.whl (1.4 MB)\n",
      "\u001b[2K     \u001b[90m━━━━━━━━━━━━━━━━━━━━━━━━━━━━━━━━━━━━━━━━\u001b[0m \u001b[32m1.4/1.4 MB\u001b[0m \u001b[31m1.8 MB/s\u001b[0m eta \u001b[36m0:00:00\u001b[0m00:01\u001b[0m00:01\u001b[0m0m\n",
      "\u001b[?25hRequirement already satisfied: attrs>=18.2.0 in ./anaconda3/lib/python3.7/site-packages (from tf-quant-finance) (22.1.0)\n",
      "Requirement already satisfied: protobuf in ./anaconda3/lib/python3.7/site-packages (from tf-quant-finance) (3.19.4)\n",
      "Requirement already satisfied: numpy>=1.21 in ./anaconda3/lib/python3.7/site-packages (from tf-quant-finance) (1.21.3)\n",
      "Collecting tensorflow-probability>=0.12.1\n",
      "  Downloading tensorflow_probability-0.18.0-py2.py3-none-any.whl (6.6 MB)\n",
      "\u001b[2K     \u001b[90m━━━━━━━━━━━━━━━━━━━━━━━━━━━━━━━━━━━━━━━━\u001b[0m \u001b[32m6.6/6.6 MB\u001b[0m \u001b[31m2.6 MB/s\u001b[0m eta \u001b[36m0:00:00\u001b[0m00:01\u001b[0m00:01\u001b[0mm\n",
      "\u001b[?25hRequirement already satisfied: absl-py in ./anaconda3/lib/python3.7/site-packages (from tensorflow-probability>=0.12.1->tf-quant-finance) (1.2.0)\n",
      "Requirement already satisfied: six>=1.10.0 in ./anaconda3/lib/python3.7/site-packages (from tensorflow-probability>=0.12.1->tf-quant-finance) (1.16.0)\n",
      "Collecting gast>=0.3.2\n",
      "  Downloading gast-0.5.3-py3-none-any.whl (19 kB)\n",
      "Collecting dm-tree\n",
      "  Downloading dm_tree-0.1.7-cp37-cp37m-manylinux_2_12_x86_64.manylinux2010_x86_64.whl (143 kB)\n",
      "\u001b[2K     \u001b[90m━━━━━━━━━━━━━━━━━━━━━━━━━━━━━━━━━━━━━━━\u001b[0m \u001b[32m143.3/143.3 kB\u001b[0m \u001b[31m2.4 MB/s\u001b[0m eta \u001b[36m0:00:00\u001b[0ma \u001b[36m0:00:01\u001b[0m\n",
      "\u001b[?25hRequirement already satisfied: cloudpickle>=1.3 in ./anaconda3/lib/python3.7/site-packages (from tensorflow-probability>=0.12.1->tf-quant-finance) (2.2.0)\n",
      "Requirement already satisfied: decorator in ./anaconda3/lib/python3.7/site-packages (from tensorflow-probability>=0.12.1->tf-quant-finance) (5.1.1)\n",
      "Installing collected packages: dm-tree, gast, tensorflow-probability, tf-quant-finance\n",
      "  Attempting uninstall: gast\n",
      "    Found existing installation: gast 0.2.2\n",
      "    Uninstalling gast-0.2.2:\n",
      "      Successfully uninstalled gast-0.2.2\n",
      "\u001b[31mERROR: pip's dependency resolver does not currently take into account all the packages that are installed. This behaviour is the source of the following dependency conflicts.\n",
      "tensorflow 2.10.0 requires gast<=0.4.0,>=0.2.1, but you have gast 0.5.3 which is incompatible.\n",
      "tensorflow-gpu 2.9.2 requires flatbuffers<2,>=1.12, but you have flatbuffers 2.0.7 which is incompatible.\n",
      "tensorflow-gpu 2.9.2 requires gast<=0.4.0,>=0.2.1, but you have gast 0.5.3 which is incompatible.\n",
      "tensorflow-gpu 2.9.2 requires keras<2.10.0,>=2.9.0rc0, but you have keras 2.10.0 which is incompatible.\n",
      "tensorflow-gpu 2.9.2 requires tensorboard<2.10,>=2.9, but you have tensorboard 2.10.0 which is incompatible.\n",
      "tensorflow-gpu 2.9.2 requires tensorflow-estimator<2.10.0,>=2.9.0rc0, but you have tensorflow-estimator 2.10.0 which is incompatible.\u001b[0m\u001b[31m\n",
      "\u001b[0mSuccessfully installed dm-tree-0.1.7 gast-0.5.3 tensorflow-probability-0.18.0 tf-quant-finance-0.0.1.dev34\n"
     ]
    }
   ],
   "source": [
    "!pip install tf-quant-finance"
   ]
  },
  {
   "cell_type": "code",
   "execution_count": 3,
   "metadata": {
    "id": "roUegEh5eh04",
    "jupyter": {
     "outputs_hidden": true
    }
   },
   "outputs": [
    {
     "name": "stdout",
     "output_type": "stream",
     "text": [
      "Looking in indexes: https://pypi.org/simple, https://pypi.ngc.nvidia.com\n",
      "Collecting QuantLib-Python\n",
      "  Downloading QuantLib_Python-1.18-py2.py3-none-any.whl (1.4 kB)\n",
      "Collecting QuantLib\n",
      "  Downloading QuantLib-1.27-cp37-cp37m-manylinux_2_12_x86_64.manylinux2010_x86_64.whl (17.8 MB)\n",
      "\u001b[2K     \u001b[90m━━━━━━━━━━━━━━━━━━━━━━━━━━━━━━━━━━━━━━━━\u001b[0m \u001b[32m17.8/17.8 MB\u001b[0m \u001b[31m2.4 MB/s\u001b[0m eta \u001b[36m0:00:00\u001b[0m00:01\u001b[0m00:01\u001b[0m\n",
      "\u001b[?25hInstalling collected packages: QuantLib, QuantLib-Python\n",
      "Successfully installed QuantLib-1.27 QuantLib-Python-1.18\n"
     ]
    }
   ],
   "source": [
    "!pip install QuantLib-Python"
   ]
  },
  {
   "cell_type": "code",
   "execution_count": 4,
   "metadata": {
    "colab": {
     "base_uri": "https://localhost:8080/"
    },
    "id": "w3d7fZbDwivN",
    "outputId": "4218a7ea-0d0f-483b-c297-09a6c3f69b3b"
   },
   "outputs": [
    {
     "name": "stdout",
     "output_type": "stream",
     "text": [
      "Thu Sep 15 11:28:57 2022       \n",
      "+-----------------------------------------------------------------------------+\n",
      "| NVIDIA-SMI 515.65.01    Driver Version: 516.94       CUDA Version: 11.7     |\n",
      "|-------------------------------+----------------------+----------------------+\n",
      "| GPU  Name        Persistence-M| Bus-Id        Disp.A | Volatile Uncorr. ECC |\n",
      "| Fan  Temp  Perf  Pwr:Usage/Cap|         Memory-Usage | GPU-Util  Compute M. |\n",
      "|                               |                      |               MIG M. |\n",
      "|===============================+======================+======================|\n",
      "|   0  NVIDIA GeForce ...  On   | 00000000:01:00.0 Off |                  N/A |\n",
      "| N/A   40C    P8    12W /  N/A |    230MiB /  6144MiB |      0%      Default |\n",
      "|                               |                      |                  N/A |\n",
      "+-------------------------------+----------------------+----------------------+\n",
      "                                                                               \n",
      "+-----------------------------------------------------------------------------+\n",
      "| Processes:                                                                  |\n",
      "|  GPU   GI   CI        PID   Type   Process name                  GPU Memory |\n",
      "|        ID   ID                                                   Usage      |\n",
      "|=============================================================================|\n",
      "|  No running processes found                                                 |\n",
      "+-----------------------------------------------------------------------------+\n"
     ]
    }
   ],
   "source": [
    "!nvidia-smi"
   ]
  },
  {
   "cell_type": "markdown",
   "metadata": {
    "id": "ku46LPe6Jswv"
   },
   "source": [
    "   Diffusion process $X(t) = (X_1(t), .. X_n(t))$ is a solution to a [Stochastic Differential Equation](https://en.wikipedia.org/wiki/Stochastic_differential_equation) (SDE)\n",
    "   $$dS_i = a_i(t, S) dt + \\sum_{j=1}^n S_{ij} (t, S) dW_j,\\ i \\in \\{1,.., n\\},$$\n",
    "\n",
    "where $n$ is the dimensionality of the diffusion, $\\{W_j\\}_{j=1}^n$ is $n$-dimensitonal Brownian motion, $a_i(t, S)$ is the instantaneous drift rate and the $S_{ij}(t)$ is the\n",
    "volatility matrix.\n",
    "\n",
    "In this colab we demonstrate how to draw samples from the difusion solution in TFF using the [Euler scheme](https://en.wikipedia.org/wiki/Euler%E2%80%93Maruyama_method). We also demonstrate how to use automatic differentiation framework for vega and delta computation and provide performance benchmarks.\n"
   ]
  },
  {
   "cell_type": "code",
   "execution_count": 5,
   "metadata": {
    "id": "2nA2FSdTgcEM"
   },
   "outputs": [
    {
     "name": "stderr",
     "output_type": "stream",
     "text": [
      "2022-09-15 11:29:14.509559: I tensorflow/core/platform/cpu_feature_guard.cc:193] This TensorFlow binary is optimized with oneAPI Deep Neural Network Library (oneDNN) to use the following CPU instructions in performance-critical operations:  AVX2 FMA\n",
      "To enable them in other operations, rebuild TensorFlow with the appropriate compiler flags.\n",
      "2022-09-15 11:29:14.661621: W tensorflow/stream_executor/platform/default/dso_loader.cc:64] Could not load dynamic library 'libcudart.so.11.0'; dlerror: libcudart.so.11.0: cannot open shared object file: No such file or directory\n",
      "2022-09-15 11:29:14.661640: I tensorflow/stream_executor/cuda/cudart_stub.cc:29] Ignore above cudart dlerror if you do not have a GPU set up on your machine.\n",
      "2022-09-15 11:29:14.686824: E tensorflow/stream_executor/cuda/cuda_blas.cc:2981] Unable to register cuBLAS factory: Attempting to register factory for plugin cuBLAS when one has already been registered\n",
      "2022-09-15 11:29:15.268717: W tensorflow/stream_executor/platform/default/dso_loader.cc:64] Could not load dynamic library 'libnvinfer.so.7'; dlerror: libnvinfer.so.7: cannot open shared object file: No such file or directory\n",
      "2022-09-15 11:29:15.268814: W tensorflow/stream_executor/platform/default/dso_loader.cc:64] Could not load dynamic library 'libnvinfer_plugin.so.7'; dlerror: libnvinfer_plugin.so.7: cannot open shared object file: No such file or directory\n",
      "2022-09-15 11:29:15.268822: W tensorflow/compiler/tf2tensorrt/utils/py_utils.cc:38] TF-TRT Warning: Cannot dlopen some TensorRT libraries. If you would like to use Nvidia GPU with TensorRT, please make sure the missing libraries mentioned above are installed properly.\n"
     ]
    }
   ],
   "source": [
    "#@title Imports { display-mode: \"form\" }\n",
    "\n",
    "import matplotlib.pyplot as plt\n",
    "import numpy as np\n",
    "import time\n",
    "\n",
    "import tensorflow as tf\n",
    "\n",
    "import QuantLib as ql\n",
    "\n",
    " # tff for Tensorflow Finance\n",
    "import tf_quant_finance as tff\n",
    "\n",
    "from IPython.core.pylabtools import figsize\n",
    "figsize(21, 14) # better graph size for Colab  \n"
   ]
  },
  {
   "cell_type": "markdown",
   "metadata": {
    "id": "DaCP0d8mV_Yp"
   },
   "source": [
    "## Setting up the Euler sampling for European call option pricing under Black-Scholes\n",
    "\n",
    "The pricing function outputs prices on the grid `expiries x strikes`.\n",
    "\n",
    "Sampling is performed using `sample_paths` method of `GenericItoProcess` class. The user is free to provide their own drift and volatility function in order to sample from the desired process.\n",
    "\n",
    "For many processes there exist efficient specialized samplers and the user should feel free to explore the TFF [models module](https://github.com/google/tf-quant-finance/tree/master/tf_quant_finance/models).\n",
    "\n",
    "In this example, however, we consider only `GenericItoProcess`.\n",
    "\n"
   ]
  },
  {
   "cell_type": "code",
   "execution_count": 6,
   "metadata": {
    "id": "WRYk-nfL_QQj"
   },
   "outputs": [
    {
     "name": "stderr",
     "output_type": "stream",
     "text": [
      "2022-09-15 11:29:26.828551: I tensorflow/stream_executor/cuda/cuda_gpu_executor.cc:966] could not open file to read NUMA node: /sys/bus/pci/devices/0000:01:00.0/numa_node\n",
      "Your kernel may have been built without NUMA support.\n",
      "2022-09-15 11:29:26.828737: W tensorflow/stream_executor/platform/default/dso_loader.cc:64] Could not load dynamic library 'libcudart.so.11.0'; dlerror: libcudart.so.11.0: cannot open shared object file: No such file or directory\n",
      "2022-09-15 11:29:26.828839: W tensorflow/stream_executor/platform/default/dso_loader.cc:64] Could not load dynamic library 'libcublas.so.11'; dlerror: libcublas.so.11: cannot open shared object file: No such file or directory\n",
      "2022-09-15 11:29:26.828915: W tensorflow/stream_executor/platform/default/dso_loader.cc:64] Could not load dynamic library 'libcublasLt.so.11'; dlerror: libcublasLt.so.11: cannot open shared object file: No such file or directory\n",
      "2022-09-15 11:29:26.828960: W tensorflow/stream_executor/platform/default/dso_loader.cc:64] Could not load dynamic library 'libcufft.so.10'; dlerror: libcufft.so.10: cannot open shared object file: No such file or directory\n",
      "2022-09-15 11:29:26.828996: W tensorflow/stream_executor/platform/default/dso_loader.cc:64] Could not load dynamic library 'libcurand.so.10'; dlerror: libcurand.so.10: cannot open shared object file: No such file or directory\n",
      "2022-09-15 11:29:26.829032: W tensorflow/stream_executor/platform/default/dso_loader.cc:64] Could not load dynamic library 'libcusolver.so.11'; dlerror: libcusolver.so.11: cannot open shared object file: No such file or directory\n",
      "2022-09-15 11:29:26.829096: W tensorflow/stream_executor/platform/default/dso_loader.cc:64] Could not load dynamic library 'libcusparse.so.11'; dlerror: libcusparse.so.11: cannot open shared object file: No such file or directory\n",
      "2022-09-15 11:29:26.829201: W tensorflow/stream_executor/platform/default/dso_loader.cc:64] Could not load dynamic library 'libcudnn.so.8'; dlerror: libcudnn.so.8: cannot open shared object file: No such file or directory\n",
      "2022-09-15 11:29:26.829213: W tensorflow/core/common_runtime/gpu/gpu_device.cc:1934] Cannot dlopen some GPU libraries. Please make sure the missing libraries mentioned above are installed properly if you would like to use GPU. Follow the guide at https://www.tensorflow.org/install/gpu for how to download and setup the required libraries for your platform.\n",
      "Skipping registering GPU devices...\n",
      "2022-09-15 11:29:26.830033: I tensorflow/core/platform/cpu_feature_guard.cc:193] This TensorFlow binary is optimized with oneAPI Deep Neural Network Library (oneDNN) to use the following CPU instructions in performance-critical operations:  AVX2 FMA\n",
      "To enable them in other operations, rebuild TensorFlow with the appropriate compiler flags.\n"
     ]
    }
   ],
   "source": [
    "#@title Set up parameters\n",
    "\n",
    "dtype = np.float64 #@param\n",
    "num_samples = 200000 #@param\n",
    "\n",
    "num_timesteps = 100 #@param\n",
    "\n",
    "expiries = [1.0] # This can be a rank 1 Tensor\n",
    "dt = 1. / num_timesteps\n",
    "rate = tf.constant(0.03, dtype=dtype)\n",
    "sigma = tf.constant(0.1, dtype=dtype)\n",
    "spot = tf.constant(700, dtype=dtype)\n",
    "\n",
    "strikes = tf.constant([600, 650, 680], dtype=dtype)\n",
    "\n",
    "def set_up_pricer(expiries, watch_params=False):\n",
    "    \"\"\"Set up European option pricing function under Black-Scholes model.\n",
    "    \n",
    "    Args:\n",
    "        expiries: List of expiries at which to to sample the trajectories.\n",
    "        watch_params: A Python bool. When `True`, gradients of the price function wrt the inputs\n",
    "          are computed more efficiently. \n",
    "    Returns:\n",
    "     A callable that accepts a rank 1 tensor of strikes, and scalar values for \n",
    "     the spots and  volatility values. The callable outputs prices of\n",
    "     the European call options on the grid `expiries x strikes`.\n",
    "    \"\"\"\n",
    "    def price_eu_options(strikes, spot, sigma):\n",
    "        # Define drift and volatility functions. \n",
    "        def drift_fn(t, x):\n",
    "          del t, x\n",
    "          return rate - 0.5 * sigma**2\n",
    "        def vol_fn(t, x):\n",
    "          del t, x\n",
    "          return tf.reshape(sigma, [1, 1])\n",
    "        # Use GenericItoProcess class to set up the Ito process\n",
    "        process = tff.models.GenericItoProcess(\n",
    "            dim=1,\n",
    "            drift_fn=drift_fn,\n",
    "            volatility_fn=vol_fn,\n",
    "            dtype=dtype)\n",
    "        log_spot = tf.math.log(tf.reduce_mean(spot))\n",
    "        if watch_params:\n",
    "            watch_params_list = [sigma]\n",
    "        else:\n",
    "            watch_params_list = None\n",
    "        paths = process.sample_paths(\n",
    "            expiries, num_samples=num_samples,\n",
    "            initial_state=log_spot, \n",
    "            watch_params=watch_params_list,\n",
    "            # Select a random number generator\n",
    "            random_type=tff.math.random.RandomType.PSEUDO_ANTITHETIC,\n",
    "            time_step=dt)\n",
    "        prices = (tf.exp(-tf.expand_dims(rate * expiries, axis=-1))\n",
    "                  * tf.reduce_mean(tf.nn.relu(tf.math.exp(paths) - strikes), 0))\n",
    "        return prices\n",
    "    return price_eu_options\n",
    "\n",
    "price_eu_options = tf.function(set_up_pricer(expiries))\n"
   ]
  },
  {
   "cell_type": "code",
   "execution_count": 7,
   "metadata": {
    "colab": {
     "base_uri": "https://localhost:8080/"
    },
    "id": "LAzzV5Da_QQm",
    "outputId": "eb01ab9d-ca9f-430a-a79d-0b1061e232be"
   },
   "outputs": [
    {
     "name": "stdout",
     "output_type": "stream",
     "text": [
      "Time (seconds) to price a European Call Option on a CPU:  0.46552443504333496\n"
     ]
    }
   ],
   "source": [
    "#@title Pricing time a CPU. Note TensorFlow does automatic multithreading.\n",
    "\n",
    "# First run (includes graph optimization time)\n",
    "with tf.device(\"/cpu:0\"):\n",
    "    price_eu_options(strikes, spot, sigma)\n",
    "\n",
    "# Second run (excludes graph optimization time)\n",
    "time_start = time.time()\n",
    "with tf.device(\"/cpu:0\"):\n",
    "    prices = price_eu_options(strikes, spot, sigma)\n",
    "time_end = time.time()\n",
    "\n",
    "time_price_cpu = time_end - time_start\n",
    "print(\"Time (seconds) to price a European Call Option on a CPU: \", time_price_cpu)"
   ]
  },
  {
   "cell_type": "markdown",
   "metadata": {
    "id": "1AXfFFtYPdkK"
   },
   "source": [
    "### Better performance with XLA\n",
    "\n",
    "A quick guide on XLA is available on [TensorFlow website](https://www.tensorflow.org/xla).\n",
    "Roughly, XLA compiler generates a binary for the desired architecture (CPU/GPU/TPU). When underlying TF graph consists of\n",
    "many nodes, XLA might provide a significant speed up.\n",
    "\n",
    "Below we use `tf.function` with `jit_compile=True` to indicate that the whole Monte Carlo graph should be XLA-compiled."
   ]
  },
  {
   "cell_type": "code",
   "execution_count": 9,
   "metadata": {
    "id": "y65_Lj6jPdkK"
   },
   "outputs": [],
   "source": [
    "price_eu_options_xla = tf.function(set_up_pricer(expiries), jit_compile=True)"
   ]
  },
  {
   "cell_type": "code",
   "execution_count": 10,
   "metadata": {
    "colab": {
     "base_uri": "https://localhost:8080/"
    },
    "id": "EwrwdkWhPdkN",
    "outputId": "6c25bd91-48b1-49ad-eed6-745896da63ab"
   },
   "outputs": [
    {
     "name": "stderr",
     "output_type": "stream",
     "text": [
      "2022-09-15 11:29:45.532202: I tensorflow/compiler/xla/service/service.cc:173] XLA service 0x561305e89760 initialized for platform Host (this does not guarantee that XLA will be used). Devices:\n",
      "2022-09-15 11:29:45.532260: I tensorflow/compiler/xla/service/service.cc:181]   StreamExecutor device (0): Host, Default Version\n",
      "2022-09-15 11:29:45.557527: W tensorflow/compiler/tf2xla/kernels/assert_op.cc:38] Ignoring Assert operator generic_ito_process_sample_path/generic_ito_process_sample_path/generate_mc_normal_draws/multivariate_normal/assert_equal_1/Assert/Assert\n",
      "2022-09-15 11:29:45.561635: I tensorflow/compiler/mlir/tensorflow/utils/dump_mlir_util.cc:268] disabling MLIR crash reproducer, set env var `MLIR_CRASH_REPRODUCER_DIRECTORY` to enable.\n",
      "2022-09-15 11:29:45.769607: I tensorflow/compiler/jit/xla_compilation_cache.cc:476] Compiled cluster using XLA!  This line is logged at most once for the lifetime of the process.\n"
     ]
    },
    {
     "name": "stdout",
     "output_type": "stream",
     "text": [
      "Time (seconds) to price a European Call Option on a CPU with XLA:  0.27220630645751953\n"
     ]
    }
   ],
   "source": [
    "#@title Pricing times on a CPU with XLA compilation\n",
    "\n",
    "# First run (includes graph optimization time)\n",
    "with tf.device(\"/cpu:0\"):\n",
    "    price_eu_options_xla(strikes, spot, sigma)\n",
    "\n",
    "# Second run (excludes graph optimization time)\n",
    "time_start = time.time()\n",
    "with tf.device(\"/cpu:0\"):\n",
    "    prices = price_eu_options_xla(strikes, spot, sigma)\n",
    "time_end = time.time()\n",
    "\n",
    "time_price_cpu_xla = time_end - time_start\n",
    "print(\"Time (seconds) to price a European Call Option on a CPU with XLA: \", time_price_cpu_xla)"
   ]
  },
  {
   "cell_type": "markdown",
   "metadata": {
    "id": "IXZnDEV-PdkR"
   },
   "source": [
    "### For the reference we provide performance of the Monte Carlo pricer in QuantLib"
   ]
  },
  {
   "cell_type": "code",
   "execution_count": 11,
   "metadata": {
    "colab": {
     "base_uri": "https://localhost:8080/"
    },
    "id": "C1Rjiwe9_QQp",
    "outputId": "f0640bf9-1f1e-4fb9-c716-ca8467430bc6"
   },
   "outputs": [
    {
     "name": "stdout",
     "output_type": "stream",
     "text": [
      "Time (seconds) to price a European Call Option using QuantLib:  8.424311876296997\n"
     ]
    }
   ],
   "source": [
    "#@title Monte Carlo sampling in QuantLib\n",
    "\n",
    "num_samples = 200000 #@param\n",
    "\n",
    "num_timesteps = 100 #@param\n",
    "\n",
    "expiry = 1.0\n",
    "\n",
    "calculation_date = ql.Date(1, 1, 2010)\n",
    "maturity_date = ql.Date(1, 1, 2011)\n",
    "day_count = ql.Thirty360()\n",
    "calendar = ql.NullCalendar()\n",
    "\n",
    "ql_strike_price = 550\n",
    "sigma_ql = 0.1\n",
    "ql_volatility = ql.SimpleQuote(sigma_ql)\n",
    "ql_risk_free_rate = 0.03\n",
    "option_type = ql.Option.Call\n",
    "\n",
    "ql.Settings.instance().evaluationDate = calculation_date\n",
    "payoff = ql.PlainVanillaPayoff(option_type, ql_strike_price)\n",
    "\n",
    "eu_exercise = ql.EuropeanExercise(maturity_date)\n",
    "european_option_ql = ql.VanillaOption(payoff, eu_exercise)\n",
    "\n",
    "flat_ts = ql.YieldTermStructureHandle(\n",
    "    ql.FlatForward(calculation_date, ql_risk_free_rate, day_count)\n",
    ")\n",
    "flat_vol_ts = ql.BlackVolTermStructureHandle(\n",
    "    ql.BlackConstantVol(calculation_date, calendar,\n",
    "                        ql.QuoteHandle(ql_volatility), day_count)\n",
    ")\n",
    "\n",
    "spot_ql = 700\n",
    "spot_price = ql.SimpleQuote(spot_ql)\n",
    "spot_handle = ql.QuoteHandle(\n",
    "    spot_price\n",
    ")\n",
    "bsm_process = ql.BlackScholesProcess(spot_handle,\n",
    "                                      flat_ts,\n",
    "                                      flat_vol_ts)\n",
    "\n",
    "# Compute the same price number_of_options times\n",
    "\n",
    "engine = ql.MCEuropeanEngine(bsm_process, \"PseudoRandom\",\n",
    "                             timeSteps=num_timesteps,\n",
    "                             requiredSamples=num_samples,\n",
    "                             seed=42)\n",
    "\n",
    "european_option_ql.setPricingEngine(engine)\n",
    "# Price\n",
    "t = time.time()\n",
    "price_ql = european_option_ql.NPV()\n",
    "time_price_ql = time.time() - t\n",
    "print(\"Time (seconds) to price a European Call Option using QuantLib: \", time_price_ql)\n"
   ]
  },
  {
   "cell_type": "code",
   "execution_count": 12,
   "metadata": {
    "colab": {
     "base_uri": "https://localhost:8080/",
     "height": 553
    },
    "id": "V2ms9TA7_QQr",
    "outputId": "21c55ab9-2a4d-43b9-b1ec-3cc1de24227c"
   },
   "outputs": [
    {
     "data": {
      "image/png": "[encoded data removed]",
      "text/plain": [
       "<Figure size 1200x900 with 1 Axes>"
      ]
     },
     "metadata": {},
     "output_type": "display_data"
    }
   ],
   "source": [
    "#@title Plot the results\n",
    "\n",
    "ind = np.arange(1)  # the x locations for the groups\n",
    "width = 0.35  # the width of the bars\n",
    "\n",
    "fig, ax = plt.subplots()\n",
    "\n",
    "fig.set_figheight(9)\n",
    "fig.set_figwidth(12)\n",
    "\n",
    "ax.bar(ind - width/2, [time_price_cpu], width,\n",
    "       label='TensorFlow (CPU)', color='darkorange')\n",
    "ax.bar(ind + width/2, [time_price_ql], width,\n",
    "       label='QuantLib')\n",
    "\n",
    "# Add some text for labels, title and custom x-axis tick labels, etc.\n",
    "ax.set_ylabel('Time (sec) to sample {}'.format(num_samples))\n",
    "ax.set_title('Monte Carlo sampling comparison')\n",
    "ax.set_xticks(ind)\n",
    "ax.legend()\n",
    "\n",
    "\n",
    "plt.show()"
   ]
  },
  {
   "cell_type": "markdown",
   "metadata": {
    "id": "o6E1tQK5PdkX"
   },
   "source": [
    "# GPU vs CPU performace\n",
    "\n",
    "Above one can see that TF effectively applies multithreading to achieve the best possible CPU performance. If the user has access to a good GPU, additional boost can be achieved as demonstrated below.\n",
    "\n",
    "For this specific model XLA provides significant speedup for both CPU and GPU\n",
    "platforms.\n",
    "\n",
    "Tesla V100 provides 100x speed up compared to a cloud CPU with 8 logical cores\n",
    "(`n1-standard-8` machine type on Google Cloud Platform)."
   ]
  },
  {
   "cell_type": "code",
   "execution_count": 13,
   "metadata": {
    "id": "9z78R5OtPdkX"
   },
   "outputs": [],
   "source": [
    "#@title Pricing times on CPU and GPU platforms\n",
    "\n",
    "# CPU without XLA\n",
    "with tf.device(\"/cpu:0\"):\n",
    "    price_eu_options(strikes, spot, sigma)\n",
    "time_start = time.time()\n",
    "with tf.device(\"/cpu:0\"):\n",
    "    prices = price_eu_options(strikes, spot, sigma)\n",
    "time_end = time.time()\n",
    "time_price_cpu = time_end - time_start\n",
    "\n",
    "# CPU with XLA\n",
    "with tf.device(\"/cpu:0\"):\n",
    "    price_eu_options_xla(strikes, spot, sigma)\n",
    "time_start = time.time()\n",
    "with tf.device(\"/cpu:0\"):\n",
    "    prices = price_eu_options_xla(strikes, spot, sigma)\n",
    "time_end = time.time()\n",
    "time_price_cpu_xla = time_end - time_start\n",
    "\n",
    "# GPU without XLA\n",
    "with tf.device(\"/gpu:0\"):\n",
    "    price_eu_options(strikes, spot, sigma)\n",
    "# Second run (excludes graph optimization time)\n",
    "time_start = time.time()\n",
    "with tf.device(\"/gpu:0\"):\n",
    "    prices = price_eu_options(strikes, spot, sigma)\n",
    "time_end = time.time()\n",
    "time_price_gpu = time_end - time_start\n",
    "\n",
    "# GPU with XLA\n",
    "with tf.device(\"/gpu:0\"):\n",
    "    price_eu_options_xla(strikes, spot, sigma)\n",
    "# Second run (excludes graph optimization time)\n",
    "time_start = time.time()\n",
    "with tf.device(\"/gpu:0\"):\n",
    "    prices = price_eu_options_xla(strikes, spot, sigma)\n",
    "time_end = time.time()\n",
    "time_price_gpu_xla = time_end - time_start\n"
   ]
  },
  {
   "cell_type": "code",
   "execution_count": null,
   "metadata": {
    "colab": {
     "base_uri": "https://localhost:8080/",
     "height": 553
    },
    "id": "1tzvzqRMPdka",
    "outputId": "c5435022-749c-489e-8747-848bd10e1ff7"
   },
   "outputs": [
    {
     "data": {
      "image/png": "[encoded data removed]",
      "text/plain": [
       "<Figure size 864x648 with 1 Axes>"
      ]
     },
     "metadata": {
      "needs_background": "light",
      "tags": []
     },
     "output_type": "display_data"
    }
   ],
   "source": [
    "#@title Plot the results\n",
    "\n",
    "ind = np.arange(1)  # the x locations for the groups\n",
    "width = 0.35  # the width of the bars\n",
    "\n",
    "fig, ax = plt.subplots()\n",
    "\n",
    "fig.set_figheight(9)\n",
    "fig.set_figwidth(12)\n",
    "\n",
    "ax.bar(ind - width/8, [time_price_cpu], width / 8,\n",
    "       label='TensorFlow (CPU)')\n",
    "ax.bar(ind, [time_price_cpu_xla], width / 8,\n",
    "       label='TensorFlow (CPU XLA)')\n",
    "ax.bar(ind + width/8, [time_price_gpu], width / 8,\n",
    "       label='TensorFlow (GPU)')\n",
    "ax.bar(ind + width/4, [time_price_gpu_xla], width / 8,\n",
    "       label='TensorFlow (GPU XLA)')\n",
    "\n",
    "# Add some text for labels, title and custom x-axis tick labels, etc.\n",
    "ax.set_ylabel('Time (sec) to sample {}'.format(num_samples))\n",
    "ax.set_title('Monte Carlo sampling comparison')\n",
    "ax.set_xticks(ind)\n",
    "ax.legend()\n",
    "\n",
    "\n",
    "plt.show()"
   ]
  },
  {
   "cell_type": "markdown",
   "metadata": {
    "id": "NpdgpaosPdkc"
   },
   "source": [
    "# Greek computation \n",
    "\n",
    "TF provides framework for automatic differentiation. Below we demostrate how to compute vega and delta for the European call options and compare the estimated results ti the true values."
   ]
  },
  {
   "cell_type": "code",
   "execution_count": 14,
   "metadata": {
    "id": "YDmea-ACPdkd"
   },
   "outputs": [],
   "source": [
    "# Set up the pricer\n",
    "expiries = [0.5, 1.0]\n",
    "strikes = tf.constant([600, 650, 680], dtype=dtype)\n",
    "sigma = tf.constant(0.1, dtype=dtype)\n",
    "price_eu_options = set_up_pricer(expiries, watch_params=True)"
   ]
  },
  {
   "cell_type": "code",
   "execution_count": 15,
   "metadata": {
    "id": "r1WQJM-KPdkf"
   },
   "outputs": [],
   "source": [
    "price_eu_options_no_watched_params = set_up_pricer(expiries)\n",
    "@tf.function(jit_compile=True)\n",
    "def price_eu_options_xla(strikes, spot, sigma):\n",
    "    return price_eu_options_no_watched_params(strikes, spot, sigma)\n",
    "\n",
    "@tf.function\n",
    "def vega_fn(sigma):\n",
    "    fn = lambda sigma: price_eu_options(strikes, spot, sigma)\n",
    "    return tff.math.fwd_gradient(fn, sigma,\n",
    "                                 use_gradient_tape=True)\n",
    "\n",
    "@tf.function(jit_compile=True)\n",
    "def vega_fn_xla(sigma):\n",
    "    return vega_fn(sigma)\n",
    "\n",
    "@tf.function\n",
    "def delta_fn(spot):\n",
    "    fn = lambda spot: price_eu_options(strikes, spot, sigma)\n",
    "    return tff.math.fwd_gradient(fn, spot,\n",
    "                                 use_gradient_tape=True)\n",
    "\n",
    "@tf.function(jit_compile=True)\n",
    "def delta_fn_xla(spot):\n",
    "    return delta_fn(spot)"
   ]
  },
  {
   "cell_type": "code",
   "execution_count": 16,
   "metadata": {
    "colab": {
     "base_uri": "https://localhost:8080/"
    },
    "id": "JfUgriuUPdkh",
    "outputId": "1f4954de-d9bc-4ef4-cae6-fcc07cb0a1f3"
   },
   "outputs": [
    {
     "name": "stderr",
     "output_type": "stream",
     "text": [
      "2022-09-15 11:31:12.605623: W tensorflow/compiler/tf2xla/kernels/assert_op.cc:38] Ignoring Assert operator StatefulPartitionedCall/gradients/generic_ito_process_sample_path/generic_ito_process_sample_path/generate_mc_normal_draws/multivariate_normal/assert_equal_1/Assert/Assert\n"
     ]
    },
    {
     "name": "stdout",
     "output_type": "stream",
     "text": [
      "Estimated deltas on grid expiries x strikes: \n",
      " [[0.99243431 0.90246407 0.74389851]\n",
      " [0.97102268 0.86165525 0.73867857]]\n"
     ]
    }
   ],
   "source": [
    "estimated_deltas = delta_fn_xla(spot)\n",
    "print(\"Estimated deltas on grid expiries x strikes: \\n\", estimated_deltas.numpy())"
   ]
  },
  {
   "cell_type": "code",
   "execution_count": 17,
   "metadata": {
    "colab": {
     "base_uri": "https://localhost:8080/"
    },
    "id": "2TnariSOPdkk",
    "outputId": "48d871bc-7466-4206-c635-c3f2710f3ca4"
   },
   "outputs": [
    {
     "name": "stderr",
     "output_type": "stream",
     "text": [
      "2022-09-15 11:31:13.916797: W tensorflow/compiler/tf2xla/kernels/assert_op.cc:38] Ignoring Assert operator StatefulPartitionedCall/gradients/generic_ito_process_sample_path/generic_ito_process_sample_path/generate_mc_normal_draws/multivariate_normal/assert_equal_1/Assert/Assert\n"
     ]
    },
    {
     "name": "stdout",
     "output_type": "stream",
     "text": [
      "Estimated vegas on grid expiries x strikes: \n",
      " [[ 10.75730806  85.82656142 159.40778715]\n",
      " [ 48.29850972 155.0909644  229.19326531]]\n"
     ]
    }
   ],
   "source": [
    "estimated_vegas = vega_fn_xla(sigma)\n",
    "print(\"Estimated vegas on grid expiries x strikes: \\n\", estimated_vegas.numpy())"
   ]
  },
  {
   "cell_type": "code",
   "execution_count": 18,
   "metadata": {
    "id": "8Ke8hsu7Pdkm"
   },
   "outputs": [],
   "source": [
    "expiries_tensor = tf.expand_dims(tf.convert_to_tensor(expiries, dtype=dtype), axis=1)\n",
    "true_delta_fn = lambda spot : tff.black_scholes.option_price(volatilities=sigma,\n",
    "                                                             strikes=strikes,\n",
    "                                                             spots=spot,\n",
    "                                                             expiries=expiries_tensor,\n",
    "                                                             discount_rates=rate)\n",
    "true_vega_fn = lambda sigma : tff.black_scholes.option_price(volatilities=sigma,\n",
    "                               strikes=strikes,\n",
    "                               spots=spot,\n",
    "                               expiries=expiries_tensor,\n",
    "                               discount_rates=rate)"
   ]
  },
  {
   "cell_type": "code",
   "execution_count": 19,
   "metadata": {
    "colab": {
     "base_uri": "https://localhost:8080/"
    },
    "id": "2TNBEHxZPdko",
    "outputId": "527bfa80-c0b0-4d8f-827a-e15508d620bd"
   },
   "outputs": [
    {
     "name": "stdout",
     "output_type": "stream",
     "text": [
      "True deltas on grid expiries x strikes: \n",
      " [[0.99239851 0.90243168 0.74454875]\n",
      " [0.97072164 0.8623811  0.73887319]]\n",
      "True vegas on grid expiries x strikes: \n",
      " [[ 10.37265092  85.31635365 159.08825372]\n",
      " [ 46.67659297 153.994105   227.5617336 ]]\n"
     ]
    }
   ],
   "source": [
    "true_delta = tff.math.fwd_gradient(true_delta_fn, spot)\n",
    "true_vega = tff.math.fwd_gradient(true_vega_fn, sigma)\n",
    "print(\"True deltas on grid expiries x strikes: \\n\", true_delta.numpy())\n",
    "print(\"True vegas on grid expiries x strikes: \\n\", true_vega.numpy())"
   ]
  },
  {
   "cell_type": "code",
   "execution_count": 20,
   "metadata": {
    "colab": {
     "base_uri": "https://localhost:8080/"
    },
    "id": "qKTyD12zPdkq",
    "outputId": "96e300ce-7d7f-485d-8ff1-0df07fe84e34"
   },
   "outputs": [
    {
     "name": "stdout",
     "output_type": "stream",
     "text": [
      "Relative error in delta estimation: \n",
      " 0.000873336913156146\n",
      "Relative error in vega estimation: \n",
      " 0.03708378304689377\n"
     ]
    }
   ],
   "source": [
    "print(\"Relative error in delta estimation: \\n\", np.max(abs(estimated_deltas - true_delta) / true_delta))\n",
    "print(\"Relative error in vega estimation: \\n\", np.max(abs(estimated_vegas - true_vega) / true_vega))\n"
   ]
  },
  {
   "cell_type": "code",
   "execution_count": 21,
   "metadata": {
    "id": "VAq-N-F-Pdks"
   },
   "outputs": [
    {
     "name": "stderr",
     "output_type": "stream",
     "text": [
      "2022-09-15 11:31:32.187871: W tensorflow/compiler/tf2xla/kernels/assert_op.cc:38] Ignoring Assert operator generic_ito_process_sample_path/generic_ito_process_sample_path/generate_mc_normal_draws/multivariate_normal/assert_equal_1/Assert/Assert\n"
     ]
    }
   ],
   "source": [
    "#@title Greek computation speed\n",
    "\n",
    "# Price CPU with XLA\n",
    "## warmup\n",
    "with tf.device(\"/cpu:0\"):\n",
    "    price_eu_options_xla(strikes, spot, sigma)\n",
    "## measure time\n",
    "time_start = time.time()\n",
    "with tf.device(\"/cpu:0\"):\n",
    "    prices = price_eu_options_xla(strikes, spot, sigma)\n",
    "time_end = time.time()\n",
    "time_price_cpu = time_end - time_start\n",
    "\n",
    "# Delta CPU with XLA\n",
    "## warmup\n",
    "with tf.device(\"/cpu:0\"):\n",
    "    delta_fn_xla(spot)\n",
    "## measure time\n",
    "time_start = time.time()\n",
    "with tf.device(\"/cpu:0\"):\n",
    "    delta_fn_xla(spot)\n",
    "time_end = time.time()\n",
    "time_delta_cpu = time_end - time_start\n",
    "\n",
    "# Vega CPU with XLA\n",
    "## warmup\n",
    "with tf.device(\"/cpu:0\"):\n",
    "    vega_fn_xla(spot)\n",
    "## measure time\n",
    "time_start = time.time()\n",
    "with tf.device(\"/cpu:0\"):\n",
    "    vega_fn_xla(spot)\n",
    "time_end = time.time()\n",
    "time_vega_cpu = time_end - time_start\n",
    "\n",
    "# Price GPU with XLA\n",
    "## warmup\n",
    "with tf.device(\"/gpu:0\"):\n",
    "    price_eu_options_xla(strikes, spot, sigma)\n",
    "## measure time\n",
    "time_start = time.time()\n",
    "with tf.device(\"/gpu:0\"):\n",
    "    prices = price_eu_options_xla(strikes, spot, sigma)\n",
    "time_end = time.time()\n",
    "time_price_gpu = time_end - time_start\n",
    "\n",
    "# Delta GPU with XLA\n",
    "## warmup\n",
    "with tf.device(\"/gpu:0\"):\n",
    "    delta_fn_xla(spot)\n",
    "## measure time\n",
    "time_start = time.time()\n",
    "with tf.device(\"/gpu:0\"):\n",
    "    delta_fn_xla(spot)\n",
    "time_end = time.time()\n",
    "time_delta_gpu = time_end - time_start\n",
    "\n",
    "# Vega GPU with XLA\n",
    "## warmup\n",
    "with tf.device(\"/gpu:0\"):\n",
    "    vega_fn_xla(spot)\n",
    "## measure time\n",
    "time_start = time.time()\n",
    "with tf.device(\"/gpu:0\"):\n",
    "    vega_fn_xla(spot)\n",
    "time_end = time.time()\n",
    "time_vega_gpu = time_end - time_start"
   ]
  },
  {
   "cell_type": "code",
   "execution_count": 22,
   "metadata": {
    "colab": {
     "base_uri": "https://localhost:8080/",
     "height": 553
    },
    "id": "VPAWot3lPdku",
    "outputId": "6058d5fd-2857-4a7f-d1bd-f0fdbac052eb"
   },
   "outputs": [
    {
     "data": {
      "image/png": "[encoded data removed]",
      "text/plain": [
       "<Figure size 1200x900 with 1 Axes>"
      ]
     },
     "metadata": {},
     "output_type": "display_data"
    }
   ],
   "source": [
    "#@title CPU greeks computation speed\n",
    "\n",
    "ind = np.arange(1)  # the x locations for the groups\n",
    "width = 0.35  # the width of the bars\n",
    "\n",
    "fig, ax = plt.subplots()\n",
    "\n",
    "fig.set_figheight(9)\n",
    "fig.set_figwidth(12)\n",
    "\n",
    "ax.bar(ind - width/8, [time_price_cpu], width / 8,\n",
    "       label='Price time (CPU)')\n",
    "ax.bar(ind, [time_delta_cpu], width / 8,\n",
    "       label='Delta time (CPU)')\n",
    "ax.bar(ind + width/8, [time_vega_cpu], width / 8,\n",
    "       label='Vega time (CPU)')\n",
    "\n",
    "# Add some text for labels, title and custom x-axis tick labels, etc.\n",
    "ax.set_ylabel('Time (sec)')\n",
    "ax.set_title('Monte Carlo. Greeks computation on CPU')\n",
    "ax.set_xticks(ind)\n",
    "ax.legend()\n",
    "\n",
    "\n",
    "plt.show()"
   ]
  },
  {
   "cell_type": "code",
   "execution_count": null,
   "metadata": {
    "colab": {
     "base_uri": "https://localhost:8080/",
     "height": 553
    },
    "id": "Kjw6GvTmPdkx",
    "outputId": "8b62f6b5-57c5-4d65-d95f-fbd6c9968383"
   },
   "outputs": [
    {
     "data": {
      "image/png": "[encoded data removed]",
      "text/plain": [
       "<Figure size 864x648 with 1 Axes>"
      ]
     },
     "metadata": {
      "needs_background": "light",
      "tags": []
     },
     "output_type": "display_data"
    }
   ],
   "source": [
    "#@title GPU greeks computation speed\n",
    "\n",
    "ind = np.arange(1)  # the x locations for the groups\n",
    "width = 0.35  # the width of the bars\n",
    "\n",
    "fig, ax = plt.subplots()\n",
    "\n",
    "fig.set_figheight(9)\n",
    "fig.set_figwidth(12)\n",
    "\n",
    "ax.bar(ind - width/8, [time_price_gpu], width / 8,\n",
    "       label='Price time (GPU)')\n",
    "ax.bar(ind, [time_delta_gpu], width / 8,\n",
    "       label='Delta time (GPU)')\n",
    "ax.bar(ind + width/8, [time_vega_gpu], width / 8,\n",
    "       label='Vega time (GPU)')\n",
    "\n",
    "# Add some text for labels, title and custom x-axis tick labels, etc.\n",
    "ax.set_ylabel('Time (sec)')\n",
    "ax.set_title('Monte Carlo. Greeks computation on GPU')\n",
    "ax.set_xticks(ind)\n",
    "ax.legend()\n",
    "\n",
    "\n",
    "plt.show()"
   ]
  }
 ],
 "metadata": {
  "colab": {
   "collapsed_sections": [],
   "name": "Monte_Carlo_Euler_Scheme.ipynb",
   "provenance": [],
   "toc_visible": true
  },
  "environment": {
   "name": "tf2-gpu.2-1.m47",
   "type": "gcloud",
   "uri": "gcr.io/deeplearning-platform-release/tf2-gpu.2-1:m47"
  },
  "kernelspec": {
   "display_name": "Python 3 (ipykernel)",
   "language": "python",
   "name": "python3"
  },
  "language_info": {
   "codemirror_mode": {
    "name": "ipython",
    "version": 3
   },
   "file_extension": ".py",
   "mimetype": "text/x-python",
   "name": "python",
   "nbconvert_exporter": "python",
   "pygments_lexer": "ipython3",
   "version": "3.7.13"
  }
 },
 "nbformat": 4,
 "nbformat_minor": 1
}
